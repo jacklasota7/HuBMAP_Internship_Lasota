{
 "cells": [
  {
   "cell_type": "markdown",
   "id": "55e0b0f6",
   "metadata": {},
   "source": [
    "# Anndata Exploration"
   ]
  },
  {
   "cell_type": "code",
   "execution_count": 26,
   "id": "bd584331",
   "metadata": {},
   "outputs": [],
   "source": [
    "# Import packages\n",
    "import anndata as ad\n",
    "import json\n",
    "import pandas as pd\n",
    "import scanpy as sc\n",
    "from matplotlib import pyplot as plt"
   ]
  },
  {
   "cell_type": "markdown",
   "id": "0e57e80f",
   "metadata": {},
   "source": [
    "## Read the raw file using `ad.read_h5ad()`"
   ]
  },
  {
   "cell_type": "code",
   "execution_count": 27,
   "id": "8ee0b5da",
   "metadata": {},
   "outputs": [],
   "source": [
    "heart = ad.read_h5ad(\"HT_raw.h5ad\")"
   ]
  },
  {
   "cell_type": "code",
   "execution_count": 28,
   "id": "02c0466a",
   "metadata": {},
   "outputs": [
    {
     "data": {
      "text/plain": [
       "AnnData object with n_obs × n_vars = 117782 × 60286\n",
       "    obs: 'uuid', 'hubmap_id', 'age', 'sex', 'height', 'weight', 'bmi', 'cause_of_death', 'race', 'barcode', 'dataset', 'azimuth_label', 'azimuth_id', 'predicted_CLID', 'predicted_label', 'cl_match_type', 'prediction_score'\n",
       "    var: 'hugo_symbol'\n",
       "    uns: 'annotation_metadata', 'cell_type_counts', 'creation_date_time', 'datasets', 'uuid'"
      ]
     },
     "execution_count": 28,
     "metadata": {},
     "output_type": "execute_result"
    }
   ],
   "source": [
    "heart"
   ]
  },
  {
   "cell_type": "markdown",
   "id": "5fa78d1d",
   "metadata": {},
   "source": [
    "## Look at the cell by gene matrix. In raw datasets, this will be sparse due to a lot of 0s"
   ]
  },
  {
   "cell_type": "code",
   "execution_count": 29,
   "id": "38a92562",
   "metadata": {},
   "outputs": [
    {
     "data": {
      "text/plain": [
       "<Compressed Sparse Row sparse matrix of dtype 'float32'\n",
       "\twith 2216316 stored elements and shape (117782, 60286)>"
      ]
     },
     "execution_count": 29,
     "metadata": {},
     "output_type": "execute_result"
    }
   ],
   "source": [
    "heart.X"
   ]
  },
  {
   "cell_type": "markdown",
   "id": "888ca15b",
   "metadata": {},
   "source": [
    "## In this data, the .obs Dataframe shows info about the cells present"
   ]
  },
  {
   "cell_type": "code",
   "execution_count": 30,
   "id": "ddd0f9bf",
   "metadata": {},
   "outputs": [
    {
     "data": {
      "text/html": [
       "<div>\n",
       "<style scoped>\n",
       "    .dataframe tbody tr th:only-of-type {\n",
       "        vertical-align: middle;\n",
       "    }\n",
       "\n",
       "    .dataframe tbody tr th {\n",
       "        vertical-align: top;\n",
       "    }\n",
       "\n",
       "    .dataframe thead th {\n",
       "        text-align: right;\n",
       "    }\n",
       "</style>\n",
       "<table border=\"1\" class=\"dataframe\">\n",
       "  <thead>\n",
       "    <tr style=\"text-align: right;\">\n",
       "      <th></th>\n",
       "      <th>uuid</th>\n",
       "      <th>hubmap_id</th>\n",
       "      <th>age</th>\n",
       "      <th>sex</th>\n",
       "      <th>height</th>\n",
       "      <th>weight</th>\n",
       "      <th>bmi</th>\n",
       "      <th>cause_of_death</th>\n",
       "      <th>race</th>\n",
       "      <th>barcode</th>\n",
       "      <th>dataset</th>\n",
       "      <th>azimuth_label</th>\n",
       "      <th>azimuth_id</th>\n",
       "      <th>predicted_CLID</th>\n",
       "      <th>predicted_label</th>\n",
       "      <th>cl_match_type</th>\n",
       "      <th>prediction_score</th>\n",
       "    </tr>\n",
       "    <tr>\n",
       "      <th>cell_id</th>\n",
       "      <th></th>\n",
       "      <th></th>\n",
       "      <th></th>\n",
       "      <th></th>\n",
       "      <th></th>\n",
       "      <th></th>\n",
       "      <th></th>\n",
       "      <th></th>\n",
       "      <th></th>\n",
       "      <th></th>\n",
       "      <th></th>\n",
       "      <th></th>\n",
       "      <th></th>\n",
       "      <th></th>\n",
       "      <th></th>\n",
       "      <th></th>\n",
       "      <th></th>\n",
       "    </tr>\n",
       "  </thead>\n",
       "  <tbody>\n",
       "    <tr>\n",
       "      <th>c6bb00096b0cf40751f9d6003fb730c7-AACGCGCAGAAAGCCTACGAAAGTTGCCATAACCTCATTT</th>\n",
       "      <td>c6bb00096b0cf40751f9d6003fb730c7</td>\n",
       "      <td>HBM943.DFKN.947</td>\n",
       "      <td>51</td>\n",
       "      <td>Male</td>\n",
       "      <td>182.9</td>\n",
       "      <td>100.7</td>\n",
       "      <td>NaN</td>\n",
       "      <td>NaN</td>\n",
       "      <td>White</td>\n",
       "      <td>AACGCGCAGAAAGCCTACGAAAGTTGCCATAACCTCATTT</td>\n",
       "      <td>c6bb00096b0cf40751f9d6003fb730c7</td>\n",
       "      <td>Fibroblast</td>\n",
       "      <td>AZ:0000008</td>\n",
       "      <td>CL:0000057</td>\n",
       "      <td>fibroblast</td>\n",
       "      <td>skos:exactMatch</td>\n",
       "      <td>0.841488</td>\n",
       "    </tr>\n",
       "    <tr>\n",
       "      <th>c6bb00096b0cf40751f9d6003fb730c7-AACGCGCAGAAAGCCTACGAAAGTTGCCATAACGAGCGT</th>\n",
       "      <td>c6bb00096b0cf40751f9d6003fb730c7</td>\n",
       "      <td>HBM943.DFKN.947</td>\n",
       "      <td>51</td>\n",
       "      <td>Male</td>\n",
       "      <td>182.9</td>\n",
       "      <td>100.7</td>\n",
       "      <td>NaN</td>\n",
       "      <td>NaN</td>\n",
       "      <td>White</td>\n",
       "      <td>AACGCGCAGAAAGCCTACGAAAGTTGCCATAACGAGCGT</td>\n",
       "      <td>c6bb00096b0cf40751f9d6003fb730c7</td>\n",
       "      <td>Ventricular Cardiomycoyte</td>\n",
       "      <td>AZ:0000021</td>\n",
       "      <td>CL:0002131</td>\n",
       "      <td>regular ventricular cardiac myocyte</td>\n",
       "      <td>skos:exactMatch</td>\n",
       "      <td>0.490387</td>\n",
       "    </tr>\n",
       "    <tr>\n",
       "      <th>c6bb00096b0cf40751f9d6003fb730c7-AACGCGCAGAAAGCCTACGAAAGTTGCCATAACTTGGATT</th>\n",
       "      <td>c6bb00096b0cf40751f9d6003fb730c7</td>\n",
       "      <td>HBM943.DFKN.947</td>\n",
       "      <td>51</td>\n",
       "      <td>Male</td>\n",
       "      <td>182.9</td>\n",
       "      <td>100.7</td>\n",
       "      <td>NaN</td>\n",
       "      <td>NaN</td>\n",
       "      <td>White</td>\n",
       "      <td>AACGCGCAGAAAGCCTACGAAAGTTGCCATAACTTGGATT</td>\n",
       "      <td>c6bb00096b0cf40751f9d6003fb730c7</td>\n",
       "      <td>Fibroblast</td>\n",
       "      <td>AZ:0000008</td>\n",
       "      <td>CL:0000057</td>\n",
       "      <td>fibroblast</td>\n",
       "      <td>skos:exactMatch</td>\n",
       "      <td>1.000000</td>\n",
       "    </tr>\n",
       "    <tr>\n",
       "      <th>c6bb00096b0cf40751f9d6003fb730c7-AACGCGCAGAAAGCCTACGAAAGTTGCCATAAGACCTTAT</th>\n",
       "      <td>c6bb00096b0cf40751f9d6003fb730c7</td>\n",
       "      <td>HBM943.DFKN.947</td>\n",
       "      <td>51</td>\n",
       "      <td>Male</td>\n",
       "      <td>182.9</td>\n",
       "      <td>100.7</td>\n",
       "      <td>NaN</td>\n",
       "      <td>NaN</td>\n",
       "      <td>White</td>\n",
       "      <td>AACGCGCAGAAAGCCTACGAAAGTTGCCATAAGACCTTAT</td>\n",
       "      <td>c6bb00096b0cf40751f9d6003fb730c7</td>\n",
       "      <td>Ventricular Cardiomycoyte</td>\n",
       "      <td>AZ:0000021</td>\n",
       "      <td>CL:0002131</td>\n",
       "      <td>regular ventricular cardiac myocyte</td>\n",
       "      <td>skos:exactMatch</td>\n",
       "      <td>0.491340</td>\n",
       "    </tr>\n",
       "    <tr>\n",
       "      <th>c6bb00096b0cf40751f9d6003fb730c7-AACGCGCAGAAAGCCTACGAAAGTTGCCATAAGCAGTATT</th>\n",
       "      <td>c6bb00096b0cf40751f9d6003fb730c7</td>\n",
       "      <td>HBM943.DFKN.947</td>\n",
       "      <td>51</td>\n",
       "      <td>Male</td>\n",
       "      <td>182.9</td>\n",
       "      <td>100.7</td>\n",
       "      <td>NaN</td>\n",
       "      <td>NaN</td>\n",
       "      <td>White</td>\n",
       "      <td>AACGCGCAGAAAGCCTACGAAAGTTGCCATAAGCAGTATT</td>\n",
       "      <td>c6bb00096b0cf40751f9d6003fb730c7</td>\n",
       "      <td>Macrophage</td>\n",
       "      <td>AZ:0000011</td>\n",
       "      <td>CL:0000235</td>\n",
       "      <td>macrophage</td>\n",
       "      <td>skos:exactMatch</td>\n",
       "      <td>0.808582</td>\n",
       "    </tr>\n",
       "    <tr>\n",
       "      <th>...</th>\n",
       "      <td>...</td>\n",
       "      <td>...</td>\n",
       "      <td>...</td>\n",
       "      <td>...</td>\n",
       "      <td>...</td>\n",
       "      <td>...</td>\n",
       "      <td>...</td>\n",
       "      <td>...</td>\n",
       "      <td>...</td>\n",
       "      <td>...</td>\n",
       "      <td>...</td>\n",
       "      <td>...</td>\n",
       "      <td>...</td>\n",
       "      <td>...</td>\n",
       "      <td>...</td>\n",
       "      <td>...</td>\n",
       "      <td>...</td>\n",
       "    </tr>\n",
       "    <tr>\n",
       "      <th>2d0deacd8be70eefbdc33ac107d97e58-TGATTAGGTATTGAGAGAGTTTATTATGGTATTCAAGCAT</th>\n",
       "      <td>2d0deacd8be70eefbdc33ac107d97e58</td>\n",
       "      <td>HBM296.KZXD.676</td>\n",
       "      <td>25</td>\n",
       "      <td>Female</td>\n",
       "      <td>152.4</td>\n",
       "      <td>54.9</td>\n",
       "      <td>NaN</td>\n",
       "      <td>NaN</td>\n",
       "      <td>White</td>\n",
       "      <td>TGATTAGGTATTGAGAGAGTTTATTATGGTATTCAAGCAT</td>\n",
       "      <td>2d0deacd8be70eefbdc33ac107d97e58</td>\n",
       "      <td>NaN</td>\n",
       "      <td>NaN</td>\n",
       "      <td>NaN</td>\n",
       "      <td>NaN</td>\n",
       "      <td>nan</td>\n",
       "      <td>NaN</td>\n",
       "    </tr>\n",
       "    <tr>\n",
       "      <th>2d0deacd8be70eefbdc33ac107d97e58-TGATTAGGTATTGAGAGAGTTTATTATGGTCCATCGTCT</th>\n",
       "      <td>2d0deacd8be70eefbdc33ac107d97e58</td>\n",
       "      <td>HBM296.KZXD.676</td>\n",
       "      <td>25</td>\n",
       "      <td>Female</td>\n",
       "      <td>152.4</td>\n",
       "      <td>54.9</td>\n",
       "      <td>NaN</td>\n",
       "      <td>NaN</td>\n",
       "      <td>White</td>\n",
       "      <td>TGATTAGGTATTGAGAGAGTTTATTATGGTCCATCGTCT</td>\n",
       "      <td>2d0deacd8be70eefbdc33ac107d97e58</td>\n",
       "      <td>NaN</td>\n",
       "      <td>NaN</td>\n",
       "      <td>NaN</td>\n",
       "      <td>NaN</td>\n",
       "      <td>nan</td>\n",
       "      <td>NaN</td>\n",
       "    </tr>\n",
       "    <tr>\n",
       "      <th>2d0deacd8be70eefbdc33ac107d97e58-TGATTAGGTATTGAGAGAGTTTATTATGGTCCTGCTACT</th>\n",
       "      <td>2d0deacd8be70eefbdc33ac107d97e58</td>\n",
       "      <td>HBM296.KZXD.676</td>\n",
       "      <td>25</td>\n",
       "      <td>Female</td>\n",
       "      <td>152.4</td>\n",
       "      <td>54.9</td>\n",
       "      <td>NaN</td>\n",
       "      <td>NaN</td>\n",
       "      <td>White</td>\n",
       "      <td>TGATTAGGTATTGAGAGAGTTTATTATGGTCCTGCTACT</td>\n",
       "      <td>2d0deacd8be70eefbdc33ac107d97e58</td>\n",
       "      <td>NaN</td>\n",
       "      <td>NaN</td>\n",
       "      <td>NaN</td>\n",
       "      <td>NaN</td>\n",
       "      <td>nan</td>\n",
       "      <td>NaN</td>\n",
       "    </tr>\n",
       "    <tr>\n",
       "      <th>2d0deacd8be70eefbdc33ac107d97e58-TGATTAGGTATTGAGAGAGTTTATTATGGTCGCCATTCT</th>\n",
       "      <td>2d0deacd8be70eefbdc33ac107d97e58</td>\n",
       "      <td>HBM296.KZXD.676</td>\n",
       "      <td>25</td>\n",
       "      <td>Female</td>\n",
       "      <td>152.4</td>\n",
       "      <td>54.9</td>\n",
       "      <td>NaN</td>\n",
       "      <td>NaN</td>\n",
       "      <td>White</td>\n",
       "      <td>TGATTAGGTATTGAGAGAGTTTATTATGGTCGCCATTCT</td>\n",
       "      <td>2d0deacd8be70eefbdc33ac107d97e58</td>\n",
       "      <td>NaN</td>\n",
       "      <td>NaN</td>\n",
       "      <td>NaN</td>\n",
       "      <td>NaN</td>\n",
       "      <td>nan</td>\n",
       "      <td>NaN</td>\n",
       "    </tr>\n",
       "    <tr>\n",
       "      <th>2d0deacd8be70eefbdc33ac107d97e58-TGATTAGGTATTGAGAGAGTTTATTATGGTCGTCTTCCT</th>\n",
       "      <td>2d0deacd8be70eefbdc33ac107d97e58</td>\n",
       "      <td>HBM296.KZXD.676</td>\n",
       "      <td>25</td>\n",
       "      <td>Female</td>\n",
       "      <td>152.4</td>\n",
       "      <td>54.9</td>\n",
       "      <td>NaN</td>\n",
       "      <td>NaN</td>\n",
       "      <td>White</td>\n",
       "      <td>TGATTAGGTATTGAGAGAGTTTATTATGGTCGTCTTCCT</td>\n",
       "      <td>2d0deacd8be70eefbdc33ac107d97e58</td>\n",
       "      <td>Fibroblast</td>\n",
       "      <td>AZ:0000008</td>\n",
       "      <td>CL:0000057</td>\n",
       "      <td>fibroblast</td>\n",
       "      <td>skos:exactMatch</td>\n",
       "      <td>0.385387</td>\n",
       "    </tr>\n",
       "  </tbody>\n",
       "</table>\n",
       "<p>117782 rows × 17 columns</p>\n",
       "</div>"
      ],
      "text/plain": [
       "                                                                                uuid  \\\n",
       "cell_id                                                                                \n",
       "c6bb00096b0cf40751f9d6003fb730c7-AACGCGCAGAAAGC...  c6bb00096b0cf40751f9d6003fb730c7   \n",
       "c6bb00096b0cf40751f9d6003fb730c7-AACGCGCAGAAAGC...  c6bb00096b0cf40751f9d6003fb730c7   \n",
       "c6bb00096b0cf40751f9d6003fb730c7-AACGCGCAGAAAGC...  c6bb00096b0cf40751f9d6003fb730c7   \n",
       "c6bb00096b0cf40751f9d6003fb730c7-AACGCGCAGAAAGC...  c6bb00096b0cf40751f9d6003fb730c7   \n",
       "c6bb00096b0cf40751f9d6003fb730c7-AACGCGCAGAAAGC...  c6bb00096b0cf40751f9d6003fb730c7   \n",
       "...                                                                              ...   \n",
       "2d0deacd8be70eefbdc33ac107d97e58-TGATTAGGTATTGA...  2d0deacd8be70eefbdc33ac107d97e58   \n",
       "2d0deacd8be70eefbdc33ac107d97e58-TGATTAGGTATTGA...  2d0deacd8be70eefbdc33ac107d97e58   \n",
       "2d0deacd8be70eefbdc33ac107d97e58-TGATTAGGTATTGA...  2d0deacd8be70eefbdc33ac107d97e58   \n",
       "2d0deacd8be70eefbdc33ac107d97e58-TGATTAGGTATTGA...  2d0deacd8be70eefbdc33ac107d97e58   \n",
       "2d0deacd8be70eefbdc33ac107d97e58-TGATTAGGTATTGA...  2d0deacd8be70eefbdc33ac107d97e58   \n",
       "\n",
       "                                                          hubmap_id  age  \\\n",
       "cell_id                                                                    \n",
       "c6bb00096b0cf40751f9d6003fb730c7-AACGCGCAGAAAGC...  HBM943.DFKN.947   51   \n",
       "c6bb00096b0cf40751f9d6003fb730c7-AACGCGCAGAAAGC...  HBM943.DFKN.947   51   \n",
       "c6bb00096b0cf40751f9d6003fb730c7-AACGCGCAGAAAGC...  HBM943.DFKN.947   51   \n",
       "c6bb00096b0cf40751f9d6003fb730c7-AACGCGCAGAAAGC...  HBM943.DFKN.947   51   \n",
       "c6bb00096b0cf40751f9d6003fb730c7-AACGCGCAGAAAGC...  HBM943.DFKN.947   51   \n",
       "...                                                             ...  ...   \n",
       "2d0deacd8be70eefbdc33ac107d97e58-TGATTAGGTATTGA...  HBM296.KZXD.676   25   \n",
       "2d0deacd8be70eefbdc33ac107d97e58-TGATTAGGTATTGA...  HBM296.KZXD.676   25   \n",
       "2d0deacd8be70eefbdc33ac107d97e58-TGATTAGGTATTGA...  HBM296.KZXD.676   25   \n",
       "2d0deacd8be70eefbdc33ac107d97e58-TGATTAGGTATTGA...  HBM296.KZXD.676   25   \n",
       "2d0deacd8be70eefbdc33ac107d97e58-TGATTAGGTATTGA...  HBM296.KZXD.676   25   \n",
       "\n",
       "                                                       sex  height  weight  \\\n",
       "cell_id                                                                      \n",
       "c6bb00096b0cf40751f9d6003fb730c7-AACGCGCAGAAAGC...    Male   182.9   100.7   \n",
       "c6bb00096b0cf40751f9d6003fb730c7-AACGCGCAGAAAGC...    Male   182.9   100.7   \n",
       "c6bb00096b0cf40751f9d6003fb730c7-AACGCGCAGAAAGC...    Male   182.9   100.7   \n",
       "c6bb00096b0cf40751f9d6003fb730c7-AACGCGCAGAAAGC...    Male   182.9   100.7   \n",
       "c6bb00096b0cf40751f9d6003fb730c7-AACGCGCAGAAAGC...    Male   182.9   100.7   \n",
       "...                                                    ...     ...     ...   \n",
       "2d0deacd8be70eefbdc33ac107d97e58-TGATTAGGTATTGA...  Female   152.4    54.9   \n",
       "2d0deacd8be70eefbdc33ac107d97e58-TGATTAGGTATTGA...  Female   152.4    54.9   \n",
       "2d0deacd8be70eefbdc33ac107d97e58-TGATTAGGTATTGA...  Female   152.4    54.9   \n",
       "2d0deacd8be70eefbdc33ac107d97e58-TGATTAGGTATTGA...  Female   152.4    54.9   \n",
       "2d0deacd8be70eefbdc33ac107d97e58-TGATTAGGTATTGA...  Female   152.4    54.9   \n",
       "\n",
       "                                                    bmi  cause_of_death  \\\n",
       "cell_id                                                                   \n",
       "c6bb00096b0cf40751f9d6003fb730c7-AACGCGCAGAAAGC...  NaN             NaN   \n",
       "c6bb00096b0cf40751f9d6003fb730c7-AACGCGCAGAAAGC...  NaN             NaN   \n",
       "c6bb00096b0cf40751f9d6003fb730c7-AACGCGCAGAAAGC...  NaN             NaN   \n",
       "c6bb00096b0cf40751f9d6003fb730c7-AACGCGCAGAAAGC...  NaN             NaN   \n",
       "c6bb00096b0cf40751f9d6003fb730c7-AACGCGCAGAAAGC...  NaN             NaN   \n",
       "...                                                 ...             ...   \n",
       "2d0deacd8be70eefbdc33ac107d97e58-TGATTAGGTATTGA...  NaN             NaN   \n",
       "2d0deacd8be70eefbdc33ac107d97e58-TGATTAGGTATTGA...  NaN             NaN   \n",
       "2d0deacd8be70eefbdc33ac107d97e58-TGATTAGGTATTGA...  NaN             NaN   \n",
       "2d0deacd8be70eefbdc33ac107d97e58-TGATTAGGTATTGA...  NaN             NaN   \n",
       "2d0deacd8be70eefbdc33ac107d97e58-TGATTAGGTATTGA...  NaN             NaN   \n",
       "\n",
       "                                                     race  \\\n",
       "cell_id                                                     \n",
       "c6bb00096b0cf40751f9d6003fb730c7-AACGCGCAGAAAGC...  White   \n",
       "c6bb00096b0cf40751f9d6003fb730c7-AACGCGCAGAAAGC...  White   \n",
       "c6bb00096b0cf40751f9d6003fb730c7-AACGCGCAGAAAGC...  White   \n",
       "c6bb00096b0cf40751f9d6003fb730c7-AACGCGCAGAAAGC...  White   \n",
       "c6bb00096b0cf40751f9d6003fb730c7-AACGCGCAGAAAGC...  White   \n",
       "...                                                   ...   \n",
       "2d0deacd8be70eefbdc33ac107d97e58-TGATTAGGTATTGA...  White   \n",
       "2d0deacd8be70eefbdc33ac107d97e58-TGATTAGGTATTGA...  White   \n",
       "2d0deacd8be70eefbdc33ac107d97e58-TGATTAGGTATTGA...  White   \n",
       "2d0deacd8be70eefbdc33ac107d97e58-TGATTAGGTATTGA...  White   \n",
       "2d0deacd8be70eefbdc33ac107d97e58-TGATTAGGTATTGA...  White   \n",
       "\n",
       "                                                                                     barcode  \\\n",
       "cell_id                                                                                        \n",
       "c6bb00096b0cf40751f9d6003fb730c7-AACGCGCAGAAAGC...  AACGCGCAGAAAGCCTACGAAAGTTGCCATAACCTCATTT   \n",
       "c6bb00096b0cf40751f9d6003fb730c7-AACGCGCAGAAAGC...   AACGCGCAGAAAGCCTACGAAAGTTGCCATAACGAGCGT   \n",
       "c6bb00096b0cf40751f9d6003fb730c7-AACGCGCAGAAAGC...  AACGCGCAGAAAGCCTACGAAAGTTGCCATAACTTGGATT   \n",
       "c6bb00096b0cf40751f9d6003fb730c7-AACGCGCAGAAAGC...  AACGCGCAGAAAGCCTACGAAAGTTGCCATAAGACCTTAT   \n",
       "c6bb00096b0cf40751f9d6003fb730c7-AACGCGCAGAAAGC...  AACGCGCAGAAAGCCTACGAAAGTTGCCATAAGCAGTATT   \n",
       "...                                                                                      ...   \n",
       "2d0deacd8be70eefbdc33ac107d97e58-TGATTAGGTATTGA...  TGATTAGGTATTGAGAGAGTTTATTATGGTATTCAAGCAT   \n",
       "2d0deacd8be70eefbdc33ac107d97e58-TGATTAGGTATTGA...   TGATTAGGTATTGAGAGAGTTTATTATGGTCCATCGTCT   \n",
       "2d0deacd8be70eefbdc33ac107d97e58-TGATTAGGTATTGA...   TGATTAGGTATTGAGAGAGTTTATTATGGTCCTGCTACT   \n",
       "2d0deacd8be70eefbdc33ac107d97e58-TGATTAGGTATTGA...   TGATTAGGTATTGAGAGAGTTTATTATGGTCGCCATTCT   \n",
       "2d0deacd8be70eefbdc33ac107d97e58-TGATTAGGTATTGA...   TGATTAGGTATTGAGAGAGTTTATTATGGTCGTCTTCCT   \n",
       "\n",
       "                                                                             dataset  \\\n",
       "cell_id                                                                                \n",
       "c6bb00096b0cf40751f9d6003fb730c7-AACGCGCAGAAAGC...  c6bb00096b0cf40751f9d6003fb730c7   \n",
       "c6bb00096b0cf40751f9d6003fb730c7-AACGCGCAGAAAGC...  c6bb00096b0cf40751f9d6003fb730c7   \n",
       "c6bb00096b0cf40751f9d6003fb730c7-AACGCGCAGAAAGC...  c6bb00096b0cf40751f9d6003fb730c7   \n",
       "c6bb00096b0cf40751f9d6003fb730c7-AACGCGCAGAAAGC...  c6bb00096b0cf40751f9d6003fb730c7   \n",
       "c6bb00096b0cf40751f9d6003fb730c7-AACGCGCAGAAAGC...  c6bb00096b0cf40751f9d6003fb730c7   \n",
       "...                                                                              ...   \n",
       "2d0deacd8be70eefbdc33ac107d97e58-TGATTAGGTATTGA...  2d0deacd8be70eefbdc33ac107d97e58   \n",
       "2d0deacd8be70eefbdc33ac107d97e58-TGATTAGGTATTGA...  2d0deacd8be70eefbdc33ac107d97e58   \n",
       "2d0deacd8be70eefbdc33ac107d97e58-TGATTAGGTATTGA...  2d0deacd8be70eefbdc33ac107d97e58   \n",
       "2d0deacd8be70eefbdc33ac107d97e58-TGATTAGGTATTGA...  2d0deacd8be70eefbdc33ac107d97e58   \n",
       "2d0deacd8be70eefbdc33ac107d97e58-TGATTAGGTATTGA...  2d0deacd8be70eefbdc33ac107d97e58   \n",
       "\n",
       "                                                                azimuth_label  \\\n",
       "cell_id                                                                         \n",
       "c6bb00096b0cf40751f9d6003fb730c7-AACGCGCAGAAAGC...                 Fibroblast   \n",
       "c6bb00096b0cf40751f9d6003fb730c7-AACGCGCAGAAAGC...  Ventricular Cardiomycoyte   \n",
       "c6bb00096b0cf40751f9d6003fb730c7-AACGCGCAGAAAGC...                 Fibroblast   \n",
       "c6bb00096b0cf40751f9d6003fb730c7-AACGCGCAGAAAGC...  Ventricular Cardiomycoyte   \n",
       "c6bb00096b0cf40751f9d6003fb730c7-AACGCGCAGAAAGC...                 Macrophage   \n",
       "...                                                                       ...   \n",
       "2d0deacd8be70eefbdc33ac107d97e58-TGATTAGGTATTGA...                        NaN   \n",
       "2d0deacd8be70eefbdc33ac107d97e58-TGATTAGGTATTGA...                        NaN   \n",
       "2d0deacd8be70eefbdc33ac107d97e58-TGATTAGGTATTGA...                        NaN   \n",
       "2d0deacd8be70eefbdc33ac107d97e58-TGATTAGGTATTGA...                        NaN   \n",
       "2d0deacd8be70eefbdc33ac107d97e58-TGATTAGGTATTGA...                 Fibroblast   \n",
       "\n",
       "                                                    azimuth_id predicted_CLID  \\\n",
       "cell_id                                                                         \n",
       "c6bb00096b0cf40751f9d6003fb730c7-AACGCGCAGAAAGC...  AZ:0000008     CL:0000057   \n",
       "c6bb00096b0cf40751f9d6003fb730c7-AACGCGCAGAAAGC...  AZ:0000021     CL:0002131   \n",
       "c6bb00096b0cf40751f9d6003fb730c7-AACGCGCAGAAAGC...  AZ:0000008     CL:0000057   \n",
       "c6bb00096b0cf40751f9d6003fb730c7-AACGCGCAGAAAGC...  AZ:0000021     CL:0002131   \n",
       "c6bb00096b0cf40751f9d6003fb730c7-AACGCGCAGAAAGC...  AZ:0000011     CL:0000235   \n",
       "...                                                        ...            ...   \n",
       "2d0deacd8be70eefbdc33ac107d97e58-TGATTAGGTATTGA...         NaN            NaN   \n",
       "2d0deacd8be70eefbdc33ac107d97e58-TGATTAGGTATTGA...         NaN            NaN   \n",
       "2d0deacd8be70eefbdc33ac107d97e58-TGATTAGGTATTGA...         NaN            NaN   \n",
       "2d0deacd8be70eefbdc33ac107d97e58-TGATTAGGTATTGA...         NaN            NaN   \n",
       "2d0deacd8be70eefbdc33ac107d97e58-TGATTAGGTATTGA...  AZ:0000008     CL:0000057   \n",
       "\n",
       "                                                                        predicted_label  \\\n",
       "cell_id                                                                                   \n",
       "c6bb00096b0cf40751f9d6003fb730c7-AACGCGCAGAAAGC...                           fibroblast   \n",
       "c6bb00096b0cf40751f9d6003fb730c7-AACGCGCAGAAAGC...  regular ventricular cardiac myocyte   \n",
       "c6bb00096b0cf40751f9d6003fb730c7-AACGCGCAGAAAGC...                           fibroblast   \n",
       "c6bb00096b0cf40751f9d6003fb730c7-AACGCGCAGAAAGC...  regular ventricular cardiac myocyte   \n",
       "c6bb00096b0cf40751f9d6003fb730c7-AACGCGCAGAAAGC...                           macrophage   \n",
       "...                                                                                 ...   \n",
       "2d0deacd8be70eefbdc33ac107d97e58-TGATTAGGTATTGA...                                  NaN   \n",
       "2d0deacd8be70eefbdc33ac107d97e58-TGATTAGGTATTGA...                                  NaN   \n",
       "2d0deacd8be70eefbdc33ac107d97e58-TGATTAGGTATTGA...                                  NaN   \n",
       "2d0deacd8be70eefbdc33ac107d97e58-TGATTAGGTATTGA...                                  NaN   \n",
       "2d0deacd8be70eefbdc33ac107d97e58-TGATTAGGTATTGA...                           fibroblast   \n",
       "\n",
       "                                                      cl_match_type  \\\n",
       "cell_id                                                               \n",
       "c6bb00096b0cf40751f9d6003fb730c7-AACGCGCAGAAAGC...  skos:exactMatch   \n",
       "c6bb00096b0cf40751f9d6003fb730c7-AACGCGCAGAAAGC...  skos:exactMatch   \n",
       "c6bb00096b0cf40751f9d6003fb730c7-AACGCGCAGAAAGC...  skos:exactMatch   \n",
       "c6bb00096b0cf40751f9d6003fb730c7-AACGCGCAGAAAGC...  skos:exactMatch   \n",
       "c6bb00096b0cf40751f9d6003fb730c7-AACGCGCAGAAAGC...  skos:exactMatch   \n",
       "...                                                             ...   \n",
       "2d0deacd8be70eefbdc33ac107d97e58-TGATTAGGTATTGA...              nan   \n",
       "2d0deacd8be70eefbdc33ac107d97e58-TGATTAGGTATTGA...              nan   \n",
       "2d0deacd8be70eefbdc33ac107d97e58-TGATTAGGTATTGA...              nan   \n",
       "2d0deacd8be70eefbdc33ac107d97e58-TGATTAGGTATTGA...              nan   \n",
       "2d0deacd8be70eefbdc33ac107d97e58-TGATTAGGTATTGA...  skos:exactMatch   \n",
       "\n",
       "                                                    prediction_score  \n",
       "cell_id                                                               \n",
       "c6bb00096b0cf40751f9d6003fb730c7-AACGCGCAGAAAGC...          0.841488  \n",
       "c6bb00096b0cf40751f9d6003fb730c7-AACGCGCAGAAAGC...          0.490387  \n",
       "c6bb00096b0cf40751f9d6003fb730c7-AACGCGCAGAAAGC...          1.000000  \n",
       "c6bb00096b0cf40751f9d6003fb730c7-AACGCGCAGAAAGC...          0.491340  \n",
       "c6bb00096b0cf40751f9d6003fb730c7-AACGCGCAGAAAGC...          0.808582  \n",
       "...                                                              ...  \n",
       "2d0deacd8be70eefbdc33ac107d97e58-TGATTAGGTATTGA...               NaN  \n",
       "2d0deacd8be70eefbdc33ac107d97e58-TGATTAGGTATTGA...               NaN  \n",
       "2d0deacd8be70eefbdc33ac107d97e58-TGATTAGGTATTGA...               NaN  \n",
       "2d0deacd8be70eefbdc33ac107d97e58-TGATTAGGTATTGA...               NaN  \n",
       "2d0deacd8be70eefbdc33ac107d97e58-TGATTAGGTATTGA...          0.385387  \n",
       "\n",
       "[117782 rows x 17 columns]"
      ]
     },
     "execution_count": 30,
     "metadata": {},
     "output_type": "execute_result"
    }
   ],
   "source": [
    "heart.obs"
   ]
  },
  {
   "cell_type": "markdown",
   "id": "4bb62223",
   "metadata": {},
   "source": [
    "## We can use Pandas to explore the Dataframe further"
   ]
  },
  {
   "cell_type": "markdown",
   "id": "c55fbf70",
   "metadata": {},
   "source": [
    "### Look at the first 10 cell types"
   ]
  },
  {
   "cell_type": "code",
   "execution_count": 31,
   "id": "a87ce020",
   "metadata": {},
   "outputs": [
    {
     "data": {
      "text/plain": [
       "cell_id\n",
       "c6bb00096b0cf40751f9d6003fb730c7-AACGCGCAGAAAGCCTACGAAAGTTGCCATAACCTCATTT                             fibroblast\n",
       "c6bb00096b0cf40751f9d6003fb730c7-AACGCGCAGAAAGCCTACGAAAGTTGCCATAACGAGCGT     regular ventricular cardiac myocyte\n",
       "c6bb00096b0cf40751f9d6003fb730c7-AACGCGCAGAAAGCCTACGAAAGTTGCCATAACTTGGATT                             fibroblast\n",
       "c6bb00096b0cf40751f9d6003fb730c7-AACGCGCAGAAAGCCTACGAAAGTTGCCATAAGACCTTAT    regular ventricular cardiac myocyte\n",
       "c6bb00096b0cf40751f9d6003fb730c7-AACGCGCAGAAAGCCTACGAAAGTTGCCATAAGCAGTATT                             macrophage\n",
       "c6bb00096b0cf40751f9d6003fb730c7-AACGCGCAGAAAGCCTACGAAAGTTGCCATAAGTACGTTT                                    NaN\n",
       "c6bb00096b0cf40751f9d6003fb730c7-AACGCGCAGAAAGCCTACGAAAGTTGCCATAAGTATTGGT                             fibroblast\n",
       "c6bb00096b0cf40751f9d6003fb730c7-AACGCGCAGAAAGCCTACGAAAGTTGCCATAATACCGAAT                                    NaN\n",
       "c6bb00096b0cf40751f9d6003fb730c7-AACGCGCAGAAAGCCTACGAAAGTTGCCATACATGGTAAT    regular ventricular cardiac myocyte\n",
       "c6bb00096b0cf40751f9d6003fb730c7-AACGCGCAGAAAGCCTACGAAAGTTGCCATACATTCGTAT                                    NaN\n",
       "Name: predicted_label, dtype: category\n",
       "Categories (20, object): ['B cell', 'Schwann cell', 'T cell', 'capillary endothelial cell', ..., 'pericyte', 'regular atrial cardiac myocyte', 'regular ventricular cardiac myocyte', 'smooth muscle cell']"
      ]
     },
     "execution_count": 31,
     "metadata": {},
     "output_type": "execute_result"
    }
   ],
   "source": [
    "heart.obs[\"predicted_label\"].head(10)"
   ]
  },
  {
   "cell_type": "markdown",
   "id": "9cc57c55",
   "metadata": {},
   "source": [
    "### How many of each cell type are present?"
   ]
  },
  {
   "cell_type": "code",
   "execution_count": 32,
   "id": "1883ed5b",
   "metadata": {},
   "outputs": [
    {
     "data": {
      "text/plain": [
       "predicted_label\n",
       "regular ventricular cardiac myocyte     38106\n",
       "fibroblast                              23853\n",
       "capillary endothelial cell               2479\n",
       "B cell                                   1920\n",
       "myeloid cell                             1897\n",
       "macrophage                               1833\n",
       "pericyte                                 1806\n",
       "mesothelial cell                         1223\n",
       "natural killer cell                       842\n",
       "endothelial cell of venule                554\n",
       "T cell                                    521\n",
       "smooth muscle cell                        499\n",
       "endocardial cell                          353\n",
       "endothelial cell of artery                328\n",
       "mast cell                                 302\n",
       "fat cell                                  207\n",
       "Schwann cell                              204\n",
       "endothelial cell of lymphatic vessel      186\n",
       "regular atrial cardiac myocyte             63\n",
       "endothelial cell                            8\n",
       "Name: count, dtype: int64"
      ]
     },
     "execution_count": 32,
     "metadata": {},
     "output_type": "execute_result"
    }
   ],
   "source": [
    "# value_counts() is a pandas function\n",
    "heart.obs[\"predicted_label\"].value_counts()"
   ]
  },
  {
   "cell_type": "markdown",
   "id": "2d50bc34",
   "metadata": {},
   "source": [
    "## .var stores gene information in this case"
   ]
  },
  {
   "cell_type": "code",
   "execution_count": 33,
   "id": "703fe918",
   "metadata": {},
   "outputs": [
    {
     "data": {
      "text/html": [
       "<div>\n",
       "<style scoped>\n",
       "    .dataframe tbody tr th:only-of-type {\n",
       "        vertical-align: middle;\n",
       "    }\n",
       "\n",
       "    .dataframe tbody tr th {\n",
       "        vertical-align: top;\n",
       "    }\n",
       "\n",
       "    .dataframe thead th {\n",
       "        text-align: right;\n",
       "    }\n",
       "</style>\n",
       "<table border=\"1\" class=\"dataframe\">\n",
       "  <thead>\n",
       "    <tr style=\"text-align: right;\">\n",
       "      <th></th>\n",
       "      <th>hugo_symbol</th>\n",
       "    </tr>\n",
       "  </thead>\n",
       "  <tbody>\n",
       "    <tr>\n",
       "      <th>ENSG00000000003.15</th>\n",
       "      <td>TSPAN6</td>\n",
       "    </tr>\n",
       "    <tr>\n",
       "      <th>ENSG00000000005.6</th>\n",
       "      <td>TNMD</td>\n",
       "    </tr>\n",
       "    <tr>\n",
       "      <th>ENSG00000000419.13</th>\n",
       "      <td>DPM1</td>\n",
       "    </tr>\n",
       "    <tr>\n",
       "      <th>ENSG00000000457.14</th>\n",
       "      <td>SCYL3</td>\n",
       "    </tr>\n",
       "    <tr>\n",
       "      <th>ENSG00000000460.17</th>\n",
       "      <td>C1orf112</td>\n",
       "    </tr>\n",
       "    <tr>\n",
       "      <th>...</th>\n",
       "      <td>...</td>\n",
       "    </tr>\n",
       "    <tr>\n",
       "      <th>ENSG00000288640.1</th>\n",
       "      <td>NaN</td>\n",
       "    </tr>\n",
       "    <tr>\n",
       "      <th>ENSG00000288642.1</th>\n",
       "      <td>CDR1</td>\n",
       "    </tr>\n",
       "    <tr>\n",
       "      <th>ENSG00000288643.1</th>\n",
       "      <td>NaN</td>\n",
       "    </tr>\n",
       "    <tr>\n",
       "      <th>ENSG00000288644.1</th>\n",
       "      <td>NaN</td>\n",
       "    </tr>\n",
       "    <tr>\n",
       "      <th>ENSG00000288645.1</th>\n",
       "      <td>NaN</td>\n",
       "    </tr>\n",
       "  </tbody>\n",
       "</table>\n",
       "<p>60286 rows × 1 columns</p>\n",
       "</div>"
      ],
      "text/plain": [
       "                   hugo_symbol\n",
       "ENSG00000000003.15      TSPAN6\n",
       "ENSG00000000005.6         TNMD\n",
       "ENSG00000000419.13        DPM1\n",
       "ENSG00000000457.14       SCYL3\n",
       "ENSG00000000460.17    C1orf112\n",
       "...                        ...\n",
       "ENSG00000288640.1          NaN\n",
       "ENSG00000288642.1         CDR1\n",
       "ENSG00000288643.1          NaN\n",
       "ENSG00000288644.1          NaN\n",
       "ENSG00000288645.1          NaN\n",
       "\n",
       "[60286 rows x 1 columns]"
      ]
     },
     "execution_count": 33,
     "metadata": {},
     "output_type": "execute_result"
    }
   ],
   "source": [
    "heart.var"
   ]
  },
  {
   "cell_type": "code",
   "execution_count": 34,
   "id": "40412cbb",
   "metadata": {},
   "outputs": [
    {
     "data": {
      "text/plain": [
       "hugo_symbol\n",
       "Y_RNA          732\n",
       "Metazoa_SRP    167\n",
       "U3              50\n",
       "U6              29\n",
       "SNORA70         24\n",
       "              ... \n",
       "LAP3P1           1\n",
       "LAP3P2           1\n",
       "LAPTM4A          1\n",
       "LAPTM4A-DT       1\n",
       "snoZ196          1\n",
       "Name: count, Length: 38618, dtype: int64"
      ]
     },
     "execution_count": 34,
     "metadata": {},
     "output_type": "execute_result"
    }
   ],
   "source": [
    "heart.var[\"hugo_symbol\"].value_counts()"
   ]
  },
  {
   "cell_type": "markdown",
   "id": "9c7bb575",
   "metadata": {},
   "source": [
    "## Read in the processed file to compare"
   ]
  },
  {
   "cell_type": "code",
   "execution_count": 35,
   "id": "d99bb29c",
   "metadata": {},
   "outputs": [
    {
     "data": {
      "text/plain": [
       "AnnData object with n_obs × n_vars = 1754 × 15671\n",
       "    obs: 'uuid', 'hubmap_id', 'age', 'sex', 'height', 'weight', 'bmi', 'cause_of_death', 'race', 'barcode', 'dataset', 'azimuth_label', 'azimuth_id', 'predicted_CLID', 'predicted_label', 'cl_match_type', 'prediction_score', 'n_genes', 'n_counts', 'pca_density', 'gs_sketch', 'leiden'\n",
       "    var: 'hugo_symbol', 'n_cells', 'mean', 'std'\n",
       "    uns: 'annotation_metadata', 'cell_type_counts', 'creation_date_time', 'datasets', 'gs_sketch', 'leiden', 'leiden_colors', 'log1p', 'neighbors', 'pca', 'pca_density_params', 'rank_genes_groups', 'rank_genes_groups_cell_types', 'umap', 'uuid'\n",
       "    obsm: 'X_pca', 'X_umap'\n",
       "    varm: 'PCs'\n",
       "    layers: 'unscaled'\n",
       "    obsp: 'connectivities', 'distances'"
      ]
     },
     "execution_count": 35,
     "metadata": {},
     "output_type": "execute_result"
    }
   ],
   "source": [
    "heart_processed = ad.read_h5ad(\"HT_processed.h5ad\")\n",
    "heart_processed"
   ]
  },
  {
   "cell_type": "markdown",
   "id": "3430ed70",
   "metadata": {},
   "source": [
    "## Almost 99% of the cells were filtered in processing, and around 75% of genes were! What does the `.X` matrix look like now?"
   ]
  },
  {
   "cell_type": "code",
   "execution_count": 36,
   "id": "395eed26",
   "metadata": {},
   "outputs": [
    {
     "data": {
      "text/plain": [
       "array([[-0.06468012, -0.11154605, -0.07543451, ..., -0.05601254,\n",
       "        -0.05555734, -0.06008563],\n",
       "       [-0.06468012, -0.11154605, -0.07543451, ..., -0.05601254,\n",
       "        -0.05555734, -0.06008563],\n",
       "       [-0.06468012, -0.11154605, -0.07543451, ..., -0.05601254,\n",
       "        -0.05555734, -0.06008563],\n",
       "       ...,\n",
       "       [-0.06468012, -0.11154605, -0.07543451, ..., -0.05601254,\n",
       "        -0.05555734, -0.06008563],\n",
       "       [-0.06468012, -0.11154605, -0.07543451, ..., -0.05601254,\n",
       "        -0.05555734, -0.06008563],\n",
       "       [-0.06468012, -0.11154605, -0.07543451, ..., -0.05601254,\n",
       "        -0.05555734, -0.06008563]], shape=(1754, 15671), dtype=float32)"
      ]
     },
     "execution_count": 36,
     "metadata": {},
     "output_type": "execute_result"
    }
   ],
   "source": [
    "heart_processed.X"
   ]
  },
  {
   "cell_type": "markdown",
   "id": "530a1080",
   "metadata": {},
   "source": [
    "### Our processing pipeline runs Leiden clustering that we can view with a UMAP."
   ]
  },
  {
   "cell_type": "code",
   "execution_count": 37,
   "id": "c8cc3573",
   "metadata": {},
   "outputs": [
    {
     "data": {
      "image/png": "[encoded data removed]",
      "text/plain": [
       "<Figure size 640x480 with 1 Axes>"
      ]
     },
     "metadata": {},
     "output_type": "display_data"
    }
   ],
   "source": [
    "sc.pl.umap(heart_processed, color=\"leiden\")"
   ]
  },
  {
   "cell_type": "markdown",
   "id": "b70d186c",
   "metadata": {},
   "source": [
    "## Look at the metadata json associated with this data product"
   ]
  },
  {
   "cell_type": "markdown",
   "id": "91f29630",
   "metadata": {},
   "source": [
    "### Here, we are using `'r'` as the second arg because we're just reading the file. If we wanted to write a new json file, we could use `'w'`"
   ]
  },
  {
   "cell_type": "code",
   "execution_count": 2,
   "id": "842cb4ca",
   "metadata": {},
   "outputs": [
    {
     "ename": "FileNotFoundError",
     "evalue": "[Errno 2] No such file or directory: 'b20ac19e-04f0-4aa9-b81a-ef667b7f261b.json'",
     "output_type": "error",
     "traceback": [
      "\u001b[0;31m---------------------------------------------------------------------------\u001b[0m",
      "\u001b[0;31mFileNotFoundError\u001b[0m                         Traceback (most recent call last)",
      "Cell \u001b[0;32mIn[2], line 1\u001b[0m\n\u001b[0;32m----> 1\u001b[0m \u001b[38;5;28;01mwith\u001b[39;00m \u001b[38;5;28;43mopen\u001b[39;49m\u001b[43m(\u001b[49m\u001b[38;5;124;43m\"\u001b[39;49m\u001b[38;5;124;43mb20ac19e-04f0-4aa9-b81a-ef667b7f261b.json\u001b[39;49m\u001b[38;5;124;43m\"\u001b[39;49m\u001b[43m,\u001b[49m\u001b[43m \u001b[49m\u001b[38;5;124;43m'\u001b[39;49m\u001b[38;5;124;43mr\u001b[39;49m\u001b[38;5;124;43m'\u001b[39;49m\u001b[43m)\u001b[49m \u001b[38;5;28;01mas\u001b[39;00m f:\n\u001b[1;32m      2\u001b[0m     metadata \u001b[38;5;241m=\u001b[39m json\u001b[38;5;241m.\u001b[39mload(f)\n",
      "File \u001b[0;32m/opt/anaconda3/envs/compbio/lib/python3.10/site-packages/IPython/core/interactiveshell.py:324\u001b[0m, in \u001b[0;36m_modified_open\u001b[0;34m(file, *args, **kwargs)\u001b[0m\n\u001b[1;32m    317\u001b[0m \u001b[38;5;28;01mif\u001b[39;00m file \u001b[38;5;129;01min\u001b[39;00m {\u001b[38;5;241m0\u001b[39m, \u001b[38;5;241m1\u001b[39m, \u001b[38;5;241m2\u001b[39m}:\n\u001b[1;32m    318\u001b[0m     \u001b[38;5;28;01mraise\u001b[39;00m \u001b[38;5;167;01mValueError\u001b[39;00m(\n\u001b[1;32m    319\u001b[0m         \u001b[38;5;124mf\u001b[39m\u001b[38;5;124m\"\u001b[39m\u001b[38;5;124mIPython won\u001b[39m\u001b[38;5;124m'\u001b[39m\u001b[38;5;124mt let you open fd=\u001b[39m\u001b[38;5;132;01m{\u001b[39;00mfile\u001b[38;5;132;01m}\u001b[39;00m\u001b[38;5;124m by default \u001b[39m\u001b[38;5;124m\"\u001b[39m\n\u001b[1;32m    320\u001b[0m         \u001b[38;5;124m\"\u001b[39m\u001b[38;5;124mas it is likely to crash IPython. If you know what you are doing, \u001b[39m\u001b[38;5;124m\"\u001b[39m\n\u001b[1;32m    321\u001b[0m         \u001b[38;5;124m\"\u001b[39m\u001b[38;5;124myou can use builtins\u001b[39m\u001b[38;5;124m'\u001b[39m\u001b[38;5;124m open.\u001b[39m\u001b[38;5;124m\"\u001b[39m\n\u001b[1;32m    322\u001b[0m     )\n\u001b[0;32m--> 324\u001b[0m \u001b[38;5;28;01mreturn\u001b[39;00m \u001b[43mio_open\u001b[49m\u001b[43m(\u001b[49m\u001b[43mfile\u001b[49m\u001b[43m,\u001b[49m\u001b[43m \u001b[49m\u001b[38;5;241;43m*\u001b[39;49m\u001b[43margs\u001b[49m\u001b[43m,\u001b[49m\u001b[43m \u001b[49m\u001b[38;5;241;43m*\u001b[39;49m\u001b[38;5;241;43m*\u001b[39;49m\u001b[43mkwargs\u001b[49m\u001b[43m)\u001b[49m\n",
      "\u001b[0;31mFileNotFoundError\u001b[0m: [Errno 2] No such file or directory: 'b20ac19e-04f0-4aa9-b81a-ef667b7f261b.json'"
     ]
    }
   ],
   "source": [
    "with open(\"b20ac19e-04f0-4aa9-b81a-ef667b7f261b.json\", 'r') as f:\n",
    "    metadata = json.load(f)"
   ]
  }
 ],
 "metadata": {
  "kernelspec": {
   "display_name": "compbio",
   "language": "python",
   "name": "python3"
  },
  "language_info": {
   "codemirror_mode": {
    "name": "ipython",
    "version": 3
   },
   "file_extension": ".py",
   "mimetype": "text/x-python",
   "name": "python",
   "nbconvert_exporter": "python",
   "pygments_lexer": "ipython3",
   "version": "3.10.18"
  }
 },
 "nbformat": 4,
 "nbformat_minor": 5
}
